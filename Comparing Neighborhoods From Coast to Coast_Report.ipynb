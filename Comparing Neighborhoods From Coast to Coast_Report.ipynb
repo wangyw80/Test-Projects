{
 "cells": [
  {
   "cell_type": "markdown",
   "metadata": {},
   "source": [
    "## Comparing Neighborhoods from Coast to Coast"
   ]
  },
  {
   "cell_type": "markdown",
   "metadata": {},
   "source": [
    "#### Yiwei Wang"
   ]
  },
  {
   "cell_type": "markdown",
   "metadata": {},
   "source": [
    " "
   ]
  },
  {
   "cell_type": "code",
   "execution_count": null,
   "metadata": {},
   "outputs": [],
   "source": []
  },
  {
   "cell_type": "markdown",
   "metadata": {},
   "source": [
    "### Introduction"
   ]
  },
  {
   "cell_type": "markdown",
   "metadata": {},
   "source": [
    "Cities are large human settlements. Each city has its own characteristics and they are usually complex and not easy to measure. Also, within each city, different neighborhoods provide similar or different access to resources, entertainments, facilities, etc.. Studying the subtle differences or similarities among neighborhoods can provide valuable insights for both individuals and businesses. For example, when a person decides to move to another city or a different part of the same city but want to keep certain life style, it would be good to know whether the place he's going is similar to where he lives. If he is a fan of Chinese food, and the place he's moving to also has many Chinese restaurants, then it might be a good choice for his tastes.  \n",
    "\n",
    "Aside from personal interests, these analyses can ease or solve some of the business problems as well. Small businesses, such as restaurants or coffee shops, can benefit when they want to start their first shop or find a new location to expand. Instead of going through rigorous assessment of opening a new shop, which is usually costly for small businesses without a lot of data and resources, the location distribution of existing venues could help in the initial screening. Take pizza shop as an example, a good place to start a new shop would be somewhere that people would go for food but does not have a lot of other pizza shops. So in an initial screening, an efficient way would be picking out similar neighborhoods that have many food providers, which suggests high meal demand in the area. Then further filter out neighborhoods with relatively less direct competition, in this case, other pizza shops.   \n",
    "\n",
    "In this project, I use machine learning method to compare neighborhoods in three famous US cities, New York, Chicago, and Seattle. There are tons of aspects to look at when comparing cities. To simplify things, I only focus on access to venues. K-means clustering is employed to group similar neighborhoods. I then check the most popular venues in each group. While I used a general approach in this practice project, the methods can be further refined to answer specific questions, such as finding candidate locations for a new pizza shop."
   ]
  },
  {
   "cell_type": "markdown",
   "metadata": {},
   "source": [
    "### Data"
   ]
  },
  {
   "cell_type": "markdown",
   "metadata": {},
   "source": [
    "In order to gather the necessary data to conduct the analysis described in the previous section, I need information of popular venues in each neighborhood. To achieve the desired data structure, I divide the data gathering process into three steps and I pull data from three different sources.  \n",
    "\n",
    "The first part of the data set is the names of each neighborhood in the cities of interest. I use Wilipedia as the source and gather list of neighborhood names from corresponding web pages listed below.  \n",
    "\n",
    "New York, https://en.wikipedia.org/wiki/Neighborhoods_in_New_York_City;  \n",
    "Chicago, https://en.wikipedia.org/wiki/List_of_neighborhoods_in_Chicago;  \n",
    "Seattle, https://en.wikipedia.org/wiki/List_of_neighborhoods_in_Seattle. \n",
    "\n",
    "Tables containing neighborhood names are scraped into data frames using Python libraries. The second part of the data is the geographic location of these neighborhoods. I use the Geocoding application programming interface (API) service provided by Google to gather the latitude and longitude of the presumed center of each neighborhood using their names, cities, and states. In the final step, I use Foursquare.com's API to gather venue information of each neighborhood. Popular venues within 500 meter radius of the neighborhood center are gathered. Number of venues can vary a lot in neighborhoods, some neighborhoods may only have a handful of venues returned from Foursquare.com, some may have have hundreds. I limit the maximum number of venues gathered in each neighborhood to 100. Name, category, and geographic location of each venue are stored in the data frame.\n",
    "\n",
    "There are a total of 127 neighborhoods in Seattle, 246 neighborhoods in Chicago, and 327 neighborhoods in New York. Foursquare.com's API fails to return any venue information for ten of the neighborhoods. As a result, these neighborhoods are dropped from the data set. A total of 690 neighborhoods enter the clustering and a total of 496 unique venue categories are recorded among these neighborhoods."
   ]
  },
  {
   "cell_type": "markdown",
   "metadata": {},
   "source": [
    "### Methodology"
   ]
  },
  {
   "cell_type": "code",
   "execution_count": null,
   "metadata": {},
   "outputs": [],
   "source": []
  },
  {
   "cell_type": "markdown",
   "metadata": {},
   "source": [
    "### Results"
   ]
  },
  {
   "cell_type": "code",
   "execution_count": null,
   "metadata": {},
   "outputs": [],
   "source": []
  },
  {
   "cell_type": "markdown",
   "metadata": {},
   "source": [
    "### Discussion"
   ]
  },
  {
   "cell_type": "code",
   "execution_count": null,
   "metadata": {},
   "outputs": [],
   "source": []
  },
  {
   "cell_type": "markdown",
   "metadata": {},
   "source": [
    "### Conclusion"
   ]
  },
  {
   "cell_type": "code",
   "execution_count": null,
   "metadata": {},
   "outputs": [],
   "source": []
  },
  {
   "cell_type": "code",
   "execution_count": null,
   "metadata": {},
   "outputs": [],
   "source": []
  },
  {
   "cell_type": "code",
   "execution_count": null,
   "metadata": {},
   "outputs": [],
   "source": []
  },
  {
   "cell_type": "code",
   "execution_count": null,
   "metadata": {},
   "outputs": [],
   "source": []
  },
  {
   "cell_type": "code",
   "execution_count": null,
   "metadata": {},
   "outputs": [],
   "source": []
  },
  {
   "cell_type": "code",
   "execution_count": null,
   "metadata": {},
   "outputs": [],
   "source": []
  },
  {
   "cell_type": "code",
   "execution_count": null,
   "metadata": {},
   "outputs": [],
   "source": []
  }
 ],
 "metadata": {
  "kernelspec": {
   "display_name": "Python 3",
   "language": "python",
   "name": "python3"
  },
  "language_info": {
   "codemirror_mode": {
    "name": "ipython",
    "version": 3
   },
   "file_extension": ".py",
   "mimetype": "text/x-python",
   "name": "python",
   "nbconvert_exporter": "python",
   "pygments_lexer": "ipython3",
   "version": "3.6.8"
  }
 },
 "nbformat": 4,
 "nbformat_minor": 2
}
